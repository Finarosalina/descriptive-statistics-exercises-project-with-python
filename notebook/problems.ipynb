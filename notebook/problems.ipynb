{
    "cells": [
        {
            "cell_type": "markdown",
            "id": "ac622319",
            "metadata": {},
            "source": [
                "# Descriptive statistics problems"
            ]
        },
        {
            "cell_type": "markdown",
            "id": "5e0ab0d5",
            "metadata": {},
            "source": [
                "### Exercise 1\n",
                "\n",
                "We will use NumPy to obtain information to describe statistically.\n",
                "\n",
                "- Generate an array of 100 elements following a normal distribution.\n",
                "- Generate an array of 100 elements following a chi-square distribution with 3 degrees of freedom.\n",
                "- Calculate the main metrics and statistical measures that best describe the two vectors."
            ]
        },
        {
            "cell_type": "code",
            "execution_count": 4,
            "id": "34720ab6",
            "metadata": {},
            "outputs": [
                {
                    "name": "stdout",
                    "output_type": "stream",
                    "text": [
                        "[ 0.49671415 -0.1382643   0.64768854  1.52302986 -0.23415337 -0.23413696\n",
                        "  1.57921282  0.76743473 -0.46947439  0.54256004]\n"
                    ]
                }
            ],
            "source": [
                "import numpy as np\n",
                "import random\n",
                "import matplotlib.pyplot as plt\n",
                "from scipy import stats\n",
                "np.random.seed(42)\n",
                "array_normal_100=np.random.normal(size=100)\n",
                "\n",
                "print(array_normal_100[:10])"
            ]
        },
        {
            "cell_type": "code",
            "execution_count": 5,
            "id": "9f38fb7d",
            "metadata": {},
            "outputs": [
                {
                    "name": "stdout",
                    "output_type": "stream",
                    "text": [
                        "[ 0.4168513   1.53749288  2.0019707   3.31954478  2.93509884  2.17617828\n",
                        "  0.15830407  2.27652419  2.46587889 12.72456265  1.94196651  3.04725102\n",
                        "  5.77516859  4.36378602  6.86491387  0.42618426  0.78098785  1.3113313\n",
                        "  0.33084683  2.48460231  0.85740894  7.53845363  1.01734997  1.7044591\n",
                        "  4.56886089  0.55649438  0.29858042  2.75534614  2.9409741   4.4625349\n",
                        "  3.65222252  3.03548985  1.15103525  2.87187902  3.02542952  1.10535719\n",
                        "  9.13003056  3.51390358  0.79761542  4.48007115  5.09450961  3.3434575\n",
                        "  1.84236463  1.05445618  2.17070629  3.15061854  2.36153348  7.09243827\n",
                        "  3.96269904  0.92828493  0.70025868  3.53848141  1.8831237   4.24057767\n",
                        "  3.51221427  2.17951444  0.94044813  0.35233451  2.82705909  0.54422803\n",
                        "  0.89743356  2.68142092  2.4613509   0.63275656  5.54211583  5.43039306\n",
                        "  3.63214678  3.62852305  3.63218282  5.06050325  4.04232775  1.03035801\n",
                        "  1.85822454 11.7557897   0.17754328  1.45511551  5.56483363  1.10410752\n",
                        "  4.1308596   2.43317078  1.18979801  2.75974204  1.00588199  2.09414701\n",
                        "  3.60307013  4.7477682   1.450369    1.18741582  0.531925    4.9308192\n",
                        " 10.57550712  5.34984734  6.2796709   1.11415225  3.42940531  4.43865013\n",
                        "  0.74626305  0.13247338  0.50086102  2.0667793 ]\n"
                    ]
                }
            ],
            "source": [
                "\n",
                "# Generate 100 values from a chi-square distribution with 3 degrees of freedom\n",
                "array_chi = np.random.chisquare(df=3, size=100)\n",
                "\n",
                "print(array_chi)\n"
            ]
        },
        {
            "cell_type": "code",
            "execution_count": 6,
            "id": "78967fd0",
            "metadata": {},
            "outputs": [
                {
                    "name": "stdout",
                    "output_type": "stream",
                    "text": [
                        "Mean of normal and chi array: -0.10384651739409384 2.9380795335328225\n",
                        "Median of normal and chi array: -0.1269562917797126 2.4636148965577283\n",
                        "Mode of normal and chi array: 0.4967141530112327 / 0.4168513022813494\n",
                        "Range of normal and chi array: 4.472023288598682 / 12.592089274962756\n",
                        "Variance of normal and chi distribution: 0.82476989363016 / 5.87576054587392\n",
                        "Standart desviation of normal and chi distribution: 0.9081684280078007 / 2.4239968122656266 \n"
                    ]
                }
            ],
            "source": [
                "#Calculate the main metrics and statistical measures that best describe the two vectors.\n",
                "\n",
                "#mean \n",
                "import statistics as stats\n",
                "x_n=np.mean(array_normal_100)\n",
                "x_c=np.mean(array_chi)\n",
                "print(\"Mean of normal and chi array:\",x_n, x_c)\n",
                "\n",
                "# Median\n",
                "median_n= stats.median(array_normal_100)\n",
                "median_c= stats.median(array_chi)\n",
                "print(\"Median of normal and chi array:\",median_n, median_c)\n",
                "\n",
                "#Mode\n",
                "mode_n = stats.mode(array_normal_100)\n",
                "mode_c= stats.mode(array_chi)\n",
                "print(f\"Mode of normal and chi array: {mode_n} / {mode_c}\")\n",
                "\n",
                "#Range\n",
                "range_n = max(array_normal_100) - min(array_normal_100)\n",
                "range_c= max(array_chi)-min(array_chi)\n",
                "print(f\"Range of normal and chi array: {range_n} / {range_c}\")\n",
                "\n",
                "#Variance\n",
                "variance_n = stats.variance(array_normal_100)\n",
                "variance_c = stats.variance(array_chi)\n",
                "print(f\"Variance of normal and chi distribution: {variance_n} / {variance_c}\")\n",
                "\n",
                "#Standart desviation\n",
                "std_n = stats.stdev(array_normal_100)\n",
                "std_c = stats.stdev(array_chi)\n",
                "print(f\"Standart desviation of normal and chi distribution: {std_n} / {std_c} \")"
            ]
        },
        {
            "cell_type": "code",
            "execution_count": 7,
            "id": "e456225c",
            "metadata": {},
            "outputs": [
                {
                    "name": "stdout",
                    "output_type": "stream",
                    "text": [
                        "skewness normal distribution :  -0.17526772024433726\n",
                        "skewness chi distribution :  1.6683703423622345\n",
                        "kurt normal distribution :  -0.1554047077420817\n",
                        "kurt chi distribution:  3.620577909892315\n"
                    ]
                }
            ],
            "source": [
                "#### Shape measures\n",
                "##### Skewness and kurtosis\n",
                "from scipy.stats import skew, kurtosis\n",
                "print(\"skewness normal distribution : \",skew(array_normal_100))\n",
                "print(\"skewness chi distribution : \",skew(array_chi))\n",
                "print(\"kurt normal distribution : \",kurtosis(array_normal_100))\n",
                "print(\"kurt chi distribution: \",kurtosis(array_chi))"
            ]
        },
        {
            "cell_type": "markdown",
            "id": "5f0694c9",
            "metadata": {},
            "source": [
                "Una asimetría (skew) positiva (chi) indica que la mayoría de los datos están a la izquierda y hay unos pocos valores muy altos a la derecha. Una asimetría negativa indica que hay más valores bajos inusuales. Si es cercana a cero sugiere que los datos son bastante simétricos, como es el caso de la distribución normal."
            ]
        },
        {
            "cell_type": "markdown",
            "id": "46c70c3d",
            "metadata": {},
            "source": [
                "### Exercise 2\n",
                "\n",
                "Write a Python program to calculate the standard deviation of the following data:\n",
                "\n",
                "```py\n",
                "data = [4, 2, 5, 8, 6]\n",
                "```"
            ]
        },
        {
            "cell_type": "code",
            "execution_count": 8,
            "id": "d590308e",
            "metadata": {},
            "outputs": [
                {
                    "name": "stdout",
                    "output_type": "stream",
                    "text": [
                        "La desviación estándar es: 2.0\n"
                    ]
                }
            ],
            "source": [
                "import math\n",
                "\n",
                "data = [4, 2, 5, 8, 6]\n",
                "\n",
                "# Desviación estándar\t=\t√(∑(xi - x̄)² / n)  \n",
                "        \n",
                "def std(data):\n",
                "    suma_datos = 0\n",
                "    suma_cuadrados = 0\n",
                "    \n",
                "    # Calcular la media\n",
                "    for i in data:\n",
                "        suma_datos += i\n",
                "    mean = suma_datos / len(data)\n",
                "    \n",
                "    # Calcular la suma de los cuadrados de las diferencias respecto a la media\n",
                "    for i in data:\n",
                "        suma_cuadrados += (i - mean) ** 2\n",
                "    \n",
                "    # Calcular la desviación estándar\n",
                "    desviacion_estandar = math.sqrt(suma_cuadrados / len(data))  # Si quieres usar el denominador n, usa len(data)\n",
                "    \n",
                "    return desviacion_estandar\n",
                "\n",
                "result = std(data)\n",
                "print(f\"La desviación estándar es: {result}\")\n",
                "\n",
                "\n",
                "\n",
                "\n"
            ]
        }
    ],
    "metadata": {
        "kernelspec": {
            "display_name": "Python 3",
            "language": "python",
            "name": "python3"
        },
        "language_info": {
            "codemirror_mode": {
                "name": "ipython",
                "version": 3
            },
            "file_extension": ".py",
            "mimetype": "text/x-python",
            "name": "python",
            "nbconvert_exporter": "python",
            "pygments_lexer": "ipython3",
            "version": "3.11.4"
        }
    },
    "nbformat": 4,
    "nbformat_minor": 5
}
